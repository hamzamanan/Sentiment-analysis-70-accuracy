{
 "cells": [
  {
   "cell_type": "code",
   "execution_count": 1,
   "metadata": {},
   "outputs": [],
   "source": [
    "#Import libraries\n",
    "import nltk\n",
    "import re\n",
    "import pandas as pd\n",
    "import pickle\n",
    "\n",
    "from nltk.corpus import twitter_samples\n",
    "from nltk.tag import pos_tag\n",
    "from nltk.stem import WordNetLemmatizer\n",
    "from nltk.corpus import stopwords\n",
    "\n",
    "from sklearn.feature_extraction.text import TfidfVectorizer\n",
    "from sklearn.model_selection import train_test_split\n",
    "from sklearn.ensemble import RandomForestClassifier"
   ]
  },
  {
   "cell_type": "code",
   "execution_count": 2,
   "metadata": {},
   "outputs": [],
   "source": [
    "#nltk.download('twitter_samples', 'wordnet', 'averaged_perceptron_tagger')\n",
    "\n",
    "#uncomment above statement if running on a new machine"
   ]
  },
  {
   "cell_type": "code",
   "execution_count": 3,
   "metadata": {},
   "outputs": [],
   "source": [
    "positive_tokens = twitter_samples.tokenized('positive_tweets.json')\n",
    "negative_tokens = twitter_samples.tokenized('negative_tweets.json')\n"
   ]
  },
  {
   "cell_type": "code",
   "execution_count": 4,
   "metadata": {},
   "outputs": [],
   "source": [
    "#Custom functions\n",
    "def clean_tokens(tokens):\n",
    "    lemmatizer = WordNetLemmatizer()\n",
    "    stop_words = stopwords.words('english')\n",
    "    clean_list = []\n",
    "    for token, tag in pos_tag(tokens):\n",
    "        token = token.lower()\n",
    "        token = re.sub(r'@[a-z0-9_]\\S+', '', token)\n",
    "        token = re.sub(r'#[a-z0-9_]\\S+', '', token)\n",
    "        token = re.sub(r'&[a-z0-9_]\\S+', '', token)\n",
    "        token = re.sub(r'[?!.+,;$£%&\"]+', '', token)\n",
    "        token = re.sub(r'rt[\\s]+', '', token)\n",
    "        token = re.sub(r'\\d+', '', token)\n",
    "        token = re.sub(r'\\$', '', token)\n",
    "        token = re.sub(r'rt+', '', token)\n",
    "        token = re.sub(r'https?:?\\/\\/\\S+', '', token)\n",
    "        if tag.startswith('NN'):\n",
    "            position = 'n'\n",
    "        elif tag.startswith('VB'):\n",
    "            position = 'v'\n",
    "        elif tag.startswith('RB'):\n",
    "            position = 'r'\n",
    "        elif tag.startswith('JJ'):\n",
    "            position = 'a'\n",
    "        else:\n",
    "            position = 'n'\n",
    "\n",
    "        clean_list.append(lemmatizer.lemmatize(token, pos = position))\n",
    "        clean_list = [i for i in clean_list if i not in stop_words and len(i) > 0 and i != ':']\n",
    "\n",
    "    return clean_list\n",
    "\n",
    "def data_prepare(tokens, status):\n",
    "    featureset = [(tweet, status) for tweet in tokens]\n",
    "    return featureset\n",
    "\n",
    "def featureset_prepare():\n",
    "    positive_featureset = data_prepare(list(map(clean_tokens, positive_tokens)), 'Positive')\n",
    "    negative_featureset = data_prepare(list(map(clean_tokens, negative_tokens)), 'Negative')\n",
    "    featureset = positive_featureset + negative_featureset\n",
    "\n",
    "    features = []\n",
    "    labels = []\n",
    "\n",
    "    for x in featureset:\n",
    "        features.append(x[0])\n",
    "        labels.append(x[1])\n",
    "\n",
    "    return features, labels\n",
    "\n",
    "def train_model():\n",
    "    rf_vectorizer = TfidfVectorizer(ngram_range = (1, 2), sublinear_tf = True, max_features = 3000, preprocessor = ' '.join)\n",
    "    vectorized_features = rf_vectorizer.fit_transform(featureset_prepare()[0])\n",
    "\n",
    "    X_train, X_test, y_train, y_test = train_test_split(vectorized_features, featureset_prepare()[1], test_size = 0.15, shuffle = True)\n",
    "    rf_classifier = RandomForestClassifier(n_estimators = 200)\n",
    "    rf_classifier = rf_classifier.fit(X_train, y_train)\n",
    "    pickle.dump(rf_classifier, open('rf_classifier', 'wb'))\n",
    "    pickle.dump(rf_vectorizer, open('rf_vectorizer', 'wb'))\n",
    "    print('Successfully saved classifier and vectorizer')\n",
    "    "
   ]
  },
  {
   "cell_type": "code",
   "execution_count": 5,
   "metadata": {},
   "outputs": [
    {
     "name": "stdout",
     "output_type": "stream",
     "text": [
      "Successfully saved classifier and vectorizer\n"
     ]
    }
   ],
   "source": [
    "#Execute\n",
    "train_model()"
   ]
  },
  {
   "cell_type": "code",
   "execution_count": null,
   "metadata": {},
   "outputs": [],
   "source": []
  }
 ],
 "metadata": {
  "kernelspec": {
   "display_name": "Python 3",
   "language": "python",
   "name": "python3"
  },
  "language_info": {
   "codemirror_mode": {
    "name": "ipython",
    "version": 3
   },
   "file_extension": ".py",
   "mimetype": "text/x-python",
   "name": "python",
   "nbconvert_exporter": "python",
   "pygments_lexer": "ipython3",
   "version": "3.8.5"
  }
 },
 "nbformat": 4,
 "nbformat_minor": 4
}
